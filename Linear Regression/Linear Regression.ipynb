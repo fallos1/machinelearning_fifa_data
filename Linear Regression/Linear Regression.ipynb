{
 "cells": [
  {
   "cell_type": "code",
   "execution_count": 3,
   "metadata": {},
   "outputs": [],
   "source": [
    "import numpy as np\n",
    "import pandas as pd\n",
    "import matplotlib.pyplot as plt"
   ]
  },
  {
   "cell_type": "markdown",
   "metadata": {},
   "source": [
    "<h2> Linear Regression </h2>\n",
    "<h3>Aim of this workbook. </h3>\n",
    "\n",
    "<ul>\n",
    "    <li>\n",
    "        Create a linear regression algorithm using the least squares method of obtaining the regression\n",
    "        formula.\n",
    "    </li>\n",
    "    <li>\n",
    "        Incorporate correlation and scoring metrics\n",
    "    </li>\n",
    "    <li>\n",
    "        Use algorithm with soccer players height and weight data\n",
    "    </li>\n",
    "    <li>\n",
    "        Compare results with the sklearn library\n",
    "    </li>\n",
    "\n",
    "</ul>\n",
    " \n",
    "\n"
   ]
  },
  {
   "cell_type": "markdown",
   "metadata": {},
   "source": [
    "<h3>Least Squares Regression</h3>\n",
    "\n",
    "Find the approximate line of best fit by minimising the sum of squares of all the residuals. The goal is to find the slope and intercept that minimises the error.\n",
    "\n",
    "Equation for slope (m)\n",
    "\n",
    "$ m = \\frac{N\\sum(xy) - \\sum x\\sum y}{N\\sum x^2 - (\\sum x)^2}$\n",
    "\n",
    "Equation for intercept (c)\n",
    "\n",
    "$c = \\frac{\\sum y - m\\sum x}{N}$\n",
    "\n",
    "$x =$ independent variable\n",
    "$y = $ dependent variable\n",
    "$n = $ amount of observations\n"
   ]
  },
  {
   "cell_type": "markdown",
   "metadata": {},
   "source": [
    "<h3>Mean squared error</h3>\n",
    "MSE is the mean of the squared difference between the predicted parameter and observed parameter\n",
    "\n",
    "$MSE = \\frac{1}{n}\\sum (Observed - Predicted)^2$\n",
    "\n",
    "Tells us how close a regression line is to a set of points. The line of best fit minimises this function.\n",
    "\n"
   ]
  },
  {
   "cell_type": "markdown",
   "metadata": {},
   "source": [
    "<h3> Correlation Coefficient </h3>\n",
    "Shows how strong the linear relationship is between data. Ranges between -1 and 1.\n",
    "\n",
    "1 = Strong positive relationship <br>\n",
    "-1 = Strong negative relationship <br>\n",
    "0 = No relationship\n",
    "\n",
    "<h4> Pearson correlation coefficient </h4>\n",
    "\n",
    "$ r = \\frac{n(\\sum xy) - (\\sum x)(\\sum y)}\n",
    "     {\\sqrt{[n\\sum x^2 - (\\sum x)^2][n\\sum y^2 - (\\sum y)^2]}} $"
   ]
  },
  {
   "cell_type": "markdown",
   "metadata": {},
   "source": [
    "<h3>Coefficient of Determination $R^2$</h3>\n",
    "This score shows how much the response variable (y) can be explained by a change in the dependent (x) variable. It ranges for 0 to 1 where 1 means that 100% of the variation in y can be explained by x.\n",
    "\n",
    "It can be found by squaring the correlation coefficient"
   ]
  },
  {
   "cell_type": "markdown",
   "metadata": {},
   "source": [
    "<h3> Creating Simple Linear Regression Class with only Numpy </h3>\n",
    "Take two arrays as input for dependent values and response values.\n",
    "\n",
    "Calculate linear EQUATION using least squares method.\n",
    "\n",
    "Function to show the MSE, Pearson correlation and R squared."
   ]
  },
  {
   "cell_type": "code",
   "execution_count": 80,
   "metadata": {},
   "outputs": [],
   "source": [
    "class SimpleLinearRegression:\n",
    "    \n",
    "    def __init__(self, X, y):\n",
    "        self.X = X\n",
    "        self.y = y\n",
    "        if len(X) == len(y):\n",
    "            self.n = len(X)\n",
    "            self.least_squares()\n",
    "        else:\n",
    "            raise Exception(\"X and y must be of same length\")\n",
    "            \n",
    "    def least_squares(self):\n",
    "        X, y = self.X, self.y\n",
    "        x_squared = sum(np.square(X))\n",
    "        xy = sum(np.multiply(X, y))\n",
    "        n = len(X)\n",
    "        X, y = sum(X), sum(y)\n",
    "        \n",
    "        # Calculate slope (m)\n",
    "        m = (n * xy - X * y) / (n * x_squared - X**2)\n",
    "        \n",
    "        # Calculate intercept (c) \n",
    "        c = (y - m * X) / n\n",
    "        \n",
    "        self.slope = m\n",
    "        self.intercept = c\n",
    "        return m, c\n",
    "    \n",
    "    def mse(self):\n",
    "        predicted_y = np.add(np.multiply(self.X, self.slope), self.intercept)\n",
    "        error = np.subtract(predicted_y, self.y)\n",
    "        squared_error = np.square(error)\n",
    "        self.predicted_y = predicted_y\n",
    "        return (1/self.n) * np.sum(squared_error)\n",
    "    \n",
    "    def pearson_c(self):\n",
    "        return np.corrcoef(self.X, self.y)[0][1]\n",
    "    \n",
    "    def score(self):\n",
    "        # Return Coefficient of Determination R^2\n",
    "        return np.square(self.pearson_c())\n",
    "    \n",
    "    def __str__(self):\n",
    "        operator = \"+\" if self.intercept > 0 else \"-\"\n",
    "        return f\"y = {self.slope}x {operator} {np.abs(self.intercept)}\"\n",
    "    "
   ]
  },
  {
   "cell_type": "markdown",
   "metadata": {},
   "source": [
    "<h3>Using linear regression to check relationship between soccer players height and weight</h3>\n",
    "\n",
    "Data is taken from EA SPORTS FIFA 21. <br>\n",
    "Players with weight = 0 removed <br>\n",
    "4096 players in total. <br>"
   ]
  },
  {
   "cell_type": "code",
   "execution_count": 71,
   "metadata": {},
   "outputs": [
    {
     "name": "stdout",
     "output_type": "stream",
     "text": [
      "Amount of players: 4096\n",
      "Average height: 181.717529296875\n",
      "Average weight: 76.37744140625\n"
     ]
    }
   ],
   "source": [
    "# import data\n",
    "soccer_height_weight = pd.read_csv(\"futbin.csv\", usecols=[\"height\", \"weight\"])\n",
    "soccer_height_weight = soccer_height_weight.dropna()\n",
    "soccer_height_weight = soccer_height_weight[soccer_height_weight.weight > 0]\n",
    "\n",
    "print(f\"Amount of players: {len(soccer_height_weight)}\")\n",
    "print(f\"Average height: {soccer_height_weight.height.mean()}\")\n",
    "print(f\"Average weight: {soccer_height_weight.weight.mean()}\")"
   ]
  },
  {
   "cell_type": "code",
   "execution_count": 74,
   "metadata": {},
   "outputs": [
    {
     "data": {
      "text/plain": [
       "<AxesSubplot:xlabel='height', ylabel='weight'>"
      ]
     },
     "execution_count": 74,
     "metadata": {},
     "output_type": "execute_result"
    },
    {
     "data": {
      "image/png": "[encoded data removed]",
      "text/plain": [
       "<Figure size 432x288 with 1 Axes>"
      ]
     },
     "metadata": {
      "needs_background": "light"
     },
     "output_type": "display_data"
    }
   ],
   "source": [
    "soccer_height_weight.plot(kind=\"scatter\", x=\"height\", y=\"weight\")"
   ]
  },
  {
   "cell_type": "markdown",
   "metadata": {},
   "source": [
    "<h3>Using SimpleLinearRegression Class</h3>"
   ]
  },
  {
   "cell_type": "code",
   "execution_count": 88,
   "metadata": {},
   "outputs": [
    {
     "name": "stdout",
     "output_type": "stream",
     "text": [
      "Linear Regression Equasion: y = 0.8361345954133399x - 75.56287143190431\n",
      "MSE: 20.938298657251465\n",
      "Correlation: 0.7801891213408417\n",
      "R Squared: 0.6086950650585946\n"
     ]
    }
   ],
   "source": [
    "X = soccer_height_weight.height\n",
    "y = soccer_height_weight.weight\n",
    "# Initialise SimpleLinearRegression\n",
    "slr = SimpleLinearRegression(X, y)\n",
    "print(\"Linear Regression Equasion: \" + str(slr))\n",
    "print(f\"MSE: {slr.mse()}\")\n",
    "print(f\"Correlation: {slr.pearson_c()}\")\n",
    "print(f\"R Squared: {slr.score()}\")"
   ]
  },
  {
   "cell_type": "code",
   "execution_count": 90,
   "metadata": {},
   "outputs": [
    {
     "data": {
      "text/plain": [
       "[<matplotlib.lines.Line2D at 0x1ed3fbd0a90>]"
      ]
     },
     "execution_count": 90,
     "metadata": {},
     "output_type": "execute_result"
    },
    {
     "data": {
      "image/png": "[encoded data removed]",
      "text/plain": [
       "<Figure size 432x288 with 1 Axes>"
      ]
     },
     "metadata": {
      "needs_background": "light"
     },
     "output_type": "display_data"
    }
   ],
   "source": [
    "soccer_height_weight.plot(kind=\"scatter\", x=\"height\", y=\"weight\")\n",
    "m, c = slr.slope, slr.intercept\n",
    "plt.plot((150, 210), (150 * m + c, 210 * m + c), color=\"red\")\n"
   ]
  },
  {
   "cell_type": "markdown",
   "metadata": {},
   "source": [
    "<h3> Comparison with sklearn </h3>"
   ]
  },
  {
   "cell_type": "code",
   "execution_count": 102,
   "metadata": {},
   "outputs": [],
   "source": [
    "from sklearn.linear_model import LinearRegression\n",
    "from sklearn.metrics import mean_squared_error"
   ]
  },
  {
   "cell_type": "code",
   "execution_count": 103,
   "metadata": {},
   "outputs": [
    {
     "name": "stdout",
     "output_type": "stream",
     "text": [
      "Intercept: [-75.56287143]\n",
      "Slope: [0.8361346]\n",
      "MSE: 20.938298657251458\n",
      "R Squared: 0.6086950650585946\n"
     ]
    }
   ],
   "source": [
    "# arrays must be shape (-1, 1) in sklearn\n",
    "X = soccer_height_weight.height\n",
    "y = soccer_height_weight.weight\n",
    "X = X.to_numpy().reshape(-1, 1)\n",
    "y = y.to_numpy().reshape(-1, 1)\n",
    "\n",
    "# Initialise sklearn LinearRegression\n",
    "lin_reg = LinearRegression()\n",
    "lin_reg.fit(X, y)\n",
    "y_predict = lin_reg.predict(X)\n",
    "\n",
    "print(f\"Intercept: {lin_reg.intercept_}\")\n",
    "print(f\"Slope: {lin_reg.coef_[0]}\")\n",
    "print(f\"MSE: {mean_squared_error(y, y_predict)}\")\n",
    "print(f\"R Squared: {slr.score()}\")"
   ]
  },
  {
   "cell_type": "markdown",
   "metadata": {},
   "source": [
    "<h3> Comparison </h3>\n",
    "Scipy gives same results as home made solution\n",
    "\n",
    "<h3> Results </h3>\n",
    "A soccer player gains 0.84kg for each centimetre of height. The R-Squared value is 0.6087 tells us that 60.87% of data fit the model. Correlation score of 0.78 shows a strong positive correlation."
   ]
  }
 ],
 "metadata": {
  "kernelspec": {
   "display_name": "Python 3",
   "language": "python",
   "name": "python3"
  },
  "language_info": {
   "codemirror_mode": {
    "name": "ipython",
    "version": 3
   },
   "file_extension": ".py",
   "mimetype": "text/x-python",
   "name": "python",
   "nbconvert_exporter": "python",
   "pygments_lexer": "ipython3",
   "version": "3.8.3"
  }
 },
 "nbformat": 4,
 "nbformat_minor": 4
}
